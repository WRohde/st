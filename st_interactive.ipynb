{
 "cells": [
  {
   "cell_type": "markdown",
   "id": "4fc25069",
   "metadata": {},
   "source": [
    "#### NOTE: the calibrate function must be roughly in the centre for base link to find the sensor"
   ]
  },
  {
   "cell_type": "code",
   "execution_count": 1,
   "id": "opposite-rental",
   "metadata": {},
   "outputs": [
    {
     "name": "stdout",
     "output_type": "stream",
     "text": [
      "Purging...\n",
      "Command b'PURGE' completed successfully.\n",
      "Starting RoboForth...\n",
      "Command b'ROBOFORTH' completed successfully.\n",
      "Starting...\n",
      "Command b'START' completed successfully.\n",
      "Calibrating...\n",
      "Command b'CALIBRATE' completed successfully.\n",
      "Homing...\n",
      "Command b'HOME' completed successfully.\n",
      "Setting Joint mode...\n",
      "Command b'JOINT' completed successfully.\n",
      "Command b'CARTESIAN' completed successfully.\n",
      "Command b'WHERE' completed successfully.\n",
      "WHERE \n",
      "          X       Y       Z    PITCH   W(ROLL)   LEN.  OBJECT\n",
      "         0.0     0.0   500.0   -90.0     0.0     0.0  \n",
      "PREV     0.0     0.0   500.0   -90.0     0.0     0.0\n",
      "OK\n",
      ">\n",
      "Command b'CARTESIAN' completed successfully.\n",
      "Command b'WHERE' completed successfully.\n",
      "WHERE \n",
      "          X       Y       Z    PITCH   W(ROLL)   LEN.  OBJECT\n",
      "         0.0     0.0   500.0   -90.0     0.0     0.0  \n",
      "PREV     0.0     0.0   500.0   -90.0     0.0     0.0\n",
      "OK\n",
      ">\n"
     ]
    },
    {
     "data": {
      "text/plain": [
       "(X=0.0mm, Y=0.0mm, Z=500.0mm, Pitch=-90.0deg, Roll=0.0deg,\n",
       " X=0.0mm, Y=0.0mm, Z=500.0mm, Pitch=-90.0deg, Roll=0.0deg)"
      ]
     },
     "execution_count": 1,
     "metadata": {},
     "output_type": "execute_result"
    }
   ],
   "source": [
    "from st import *\n",
    "arm=StArm(debug=True)\n",
    "arm.where()"
   ]
  },
  {
   "cell_type": "code",
   "execution_count": 11,
   "id": "af8d4fbe",
   "metadata": {},
   "outputs": [],
   "source": [
    "import numpy as np\n",
    "wp0 = np.array([0,0,0,0,0])\n",
    "wp1 = np.array([1800,3800,8000,1334,1500])\n",
    "\n",
    "joint_moves = np.linspace(wp0,wp1)\n",
    "joint_moves.astype('int')"
   ]
  },
  {
   "cell_type": "code",
   "execution_count": 14,
   "id": "d4e7661f",
   "metadata": {},
   "outputs": [
    {
     "name": "stdout",
     "output_type": "stream",
     "text": [
      "Setting Joint mode...\n",
      "Command b'JOINT' completed successfully.\n",
      "Command b'0.0 0.0 0.0 0.0 0.0 JMA' completed successfully.\n",
      "Command b'CARTESIAN' completed successfully.\n",
      "Command b'WHERE' completed successfully.\n",
      "WHERE \n",
      "          X       Y       Z    PITCH   W(ROLL)   LEN.  OBJECT\n",
      "         0.0     0.0   500.0   -90.0     0.0     0.0  \n",
      "PREV    92.9   227.3   -46.4   100.7     0.0     0.0\n",
      "OK\n",
      ">\n",
      "Setting Joint mode...\n",
      "Command b'JOINT' completed successfully.\n",
      "Command b'30.612244897959183 27.224489795918366 163.26530612244898 77.55102040816327 36.734693877551024 JMA' completed without verification of success.\n"
     ]
    },
    {
     "ename": "Exception",
     "evalue": "('Arm command failed to execute as expected.', b'30.612244897959183 27.224489795918366 163.26530612244898 77.55102040816327 36.734693877551024 JMA \\r\\nSTOP BUTTON PRESSED\\x07\\x07 ABORTED\\r\\n>')",
     "output_type": "error",
     "traceback": [
      "\u001b[1;31m---------------------------------------------------------------------------\u001b[0m",
      "\u001b[1;31mException\u001b[0m                                 Traceback (most recent call last)",
      "\u001b[1;32m<ipython-input-14-3c4e65d1e9ef>\u001b[0m in \u001b[0;36m<module>\u001b[1;34m\u001b[0m\n\u001b[0;32m      1\u001b[0m \u001b[1;32mfor\u001b[0m \u001b[0mmove_wp\u001b[0m \u001b[1;32min\u001b[0m \u001b[0mjoint_moves\u001b[0m\u001b[1;33m:\u001b[0m\u001b[1;33m\u001b[0m\u001b[1;33m\u001b[0m\u001b[0m\n\u001b[1;32m----> 2\u001b[1;33m     \u001b[0marm\u001b[0m\u001b[1;33m.\u001b[0m\u001b[0mjoint_move\u001b[0m\u001b[1;33m(\u001b[0m\u001b[0mmove_wp\u001b[0m\u001b[1;33m)\u001b[0m\u001b[1;33m\u001b[0m\u001b[1;33m\u001b[0m\u001b[0m\n\u001b[0m",
      "\u001b[1;32mc:\\Users\\wfmro\\Dropbox (Cambridge University)\\shared_with_Will\\st\\st.py\u001b[0m in \u001b[0;36mjoint_move\u001b[1;34m(self, pos, block)\u001b[0m\n\u001b[0;32m    234\u001b[0m         \u001b[0mself\u001b[0m\u001b[1;33m.\u001b[0m\u001b[0mcxn\u001b[0m\u001b[1;33m.\u001b[0m\u001b[0mflushInput\u001b[0m\u001b[1;33m(\u001b[0m\u001b[1;33m)\u001b[0m\u001b[1;33m\u001b[0m\u001b[1;33m\u001b[0m\u001b[0m\n\u001b[0;32m    235\u001b[0m         \u001b[0mself\u001b[0m\u001b[1;33m.\u001b[0m\u001b[0mcxn\u001b[0m\u001b[1;33m.\u001b[0m\u001b[0mwrite\u001b[0m\u001b[1;33m(\u001b[0m\u001b[0mcmd\u001b[0m \u001b[1;33m+\u001b[0m \u001b[0mCR\u001b[0m\u001b[1;33m)\u001b[0m\u001b[1;33m\u001b[0m\u001b[1;33m\u001b[0m\u001b[0m\n\u001b[1;32m--> 236\u001b[1;33m         \u001b[0mself\u001b[0m\u001b[1;33m.\u001b[0m\u001b[0mblock_on_result\u001b[0m\u001b[1;33m(\u001b[0m\u001b[0mcmd\u001b[0m\u001b[1;33m)\u001b[0m\u001b[1;33m\u001b[0m\u001b[1;33m\u001b[0m\u001b[0m\n\u001b[0m\u001b[0;32m    237\u001b[0m         \u001b[0mself\u001b[0m\u001b[1;33m.\u001b[0m\u001b[0mwhere\u001b[0m\u001b[1;33m(\u001b[0m\u001b[1;33m)\u001b[0m\u001b[1;33m\u001b[0m\u001b[1;33m\u001b[0m\u001b[0m\n\u001b[0;32m    238\u001b[0m \u001b[1;33m\u001b[0m\u001b[0m\n",
      "\u001b[1;32mc:\\Users\\wfmro\\Dropbox (Cambridge University)\\shared_with_Will\\st\\st.py\u001b[0m in \u001b[0;36mblock_on_result\u001b[1;34m(self, cmd)\u001b[0m\n\u001b[0;32m    173\u001b[0m                     print('Command ' + str(cmd) + ' completed without ' +\n\u001b[0;32m    174\u001b[0m                           'verification of success.')\n\u001b[1;32m--> 175\u001b[1;33m                 \u001b[1;32mraise\u001b[0m \u001b[0mException\u001b[0m\u001b[1;33m(\u001b[0m\u001b[1;34m'Arm command failed to execute as expected.'\u001b[0m\u001b[1;33m,\u001b[0m \u001b[0ms\u001b[0m\u001b[1;33m)\u001b[0m\u001b[1;33m\u001b[0m\u001b[1;33m\u001b[0m\u001b[0m\n\u001b[0m\u001b[0;32m    176\u001b[0m             \u001b[0ms\u001b[0m \u001b[1;33m+=\u001b[0m \u001b[0mself\u001b[0m\u001b[1;33m.\u001b[0m\u001b[0mcxn\u001b[0m\u001b[1;33m.\u001b[0m\u001b[0mread\u001b[0m\u001b[1;33m(\u001b[0m\u001b[0mself\u001b[0m\u001b[1;33m.\u001b[0m\u001b[0mcxn\u001b[0m\u001b[1;33m.\u001b[0m\u001b[0minWaiting\u001b[0m\u001b[1;33m(\u001b[0m\u001b[1;33m)\u001b[0m\u001b[1;33m)\u001b[0m\u001b[1;33m\u001b[0m\u001b[1;33m\u001b[0m\u001b[0m\n\u001b[0;32m    177\u001b[0m             \u001b[1;32mif\u001b[0m \u001b[0mtime\u001b[0m\u001b[1;33m.\u001b[0m\u001b[0mtime\u001b[0m\u001b[1;33m(\u001b[0m\u001b[1;33m)\u001b[0m \u001b[1;33m-\u001b[0m \u001b[0mstart_time\u001b[0m \u001b[1;33m>\u001b[0m \u001b[0mself\u001b[0m\u001b[1;33m.\u001b[0m\u001b[0mblock_timeout\u001b[0m\u001b[1;33m:\u001b[0m\u001b[1;33m\u001b[0m\u001b[1;33m\u001b[0m\u001b[0m\n",
      "\u001b[1;31mException\u001b[0m: ('Arm command failed to execute as expected.', b'30.612244897959183 27.224489795918366 163.26530612244898 77.55102040816327 36.734693877551024 JMA \\r\\nSTOP BUTTON PRESSED\\x07\\x07 ABORTED\\r\\n>')"
     ]
    }
   ],
   "source": [
    "for move_wp in joint_moves:\n",
    "    arm.joint_move(move_wp)"
   ]
  },
  {
   "cell_type": "code",
   "execution_count": 10,
   "id": "b84d2e99",
   "metadata": {},
   "outputs": [
    {
     "name": "stdout",
     "output_type": "stream",
     "text": [
      "Setting Joint mode...\n",
      "Command b'JOINT' completed successfully.\n",
      "Command b'1500 1334 8000 3800 1800 JMA' completed successfully.\n",
      "Command b'CARTESIAN' completed successfully.\n",
      "Command b'WHERE' completed successfully.\n",
      "WHERE \n",
      "          X       Y       Z    PITCH   W(ROLL)   LEN.  OBJECT\n",
      "        92.9   227.3   -46.4   100.7     0.0     0.0  \n",
      "PREV    92.9   227.3   -46.4   100.7     0.0     0.0\n",
      "OK\n",
      ">\n"
     ]
    }
   ],
   "source": [
    "arm.joint_move(np.array([1800,3800,8000,1334,1500]))"
   ]
  },
  {
   "cell_type": "code",
   "execution_count": 6,
   "id": "35bed951",
   "metadata": {},
   "outputs": [
    {
     "name": "stdout",
     "output_type": "stream",
     "text": [
      "Setting Joint mode...\n",
      "Command b'JOINT' completed successfully.\n",
      "Command b'0 0 0 0 0 JMA' completed successfully.\n",
      "Command b'CARTESIAN' completed successfully.\n",
      "Command b'WHERE' completed successfully.\n",
      "WHERE \n",
      "          X       Y       Z    PITCH   W(ROLL)   LEN.  OBJECT\n",
      "         0.0     0.0   500.0   -90.0     0.0     0.0  \n",
      "PREV     0.0     0.0   500.0   -90.0    30.0     0.0\n",
      "OK\n",
      ">\n"
     ]
    }
   ],
   "source": [
    "arm.joint_move([0,0,0,0,0])"
   ]
  }
 ],
 "metadata": {
  "kernelspec": {
   "display_name": "Python 3.8.7 64-bit",
   "language": "python",
   "name": "python3"
  },
  "language_info": {
   "codemirror_mode": {
    "name": "ipython",
    "version": 3
   },
   "file_extension": ".py",
   "mimetype": "text/x-python",
   "name": "python",
   "nbconvert_exporter": "python",
   "pygments_lexer": "ipython3",
   "version": "3.8.7"
  },
  "vscode": {
   "interpreter": {
    "hash": "b86011f3e77a1975e9d3e9aafe23429c0e91ef0e00aa32a0d23432204c4fef2b"
   }
  }
 },
 "nbformat": 4,
 "nbformat_minor": 5
}
